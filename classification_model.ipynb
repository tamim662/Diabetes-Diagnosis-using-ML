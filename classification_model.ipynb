{
  "nbformat": 4,
  "nbformat_minor": 0,
  "metadata": {
    "colab": {
      "name": "classification_model.ipynb",
      "provenance": [],
      "collapsed_sections": []
    },
    "kernelspec": {
      "name": "python3",
      "display_name": "Python 3"
    }
  },
  "cells": [
    {
      "cell_type": "code",
      "metadata": {
        "id": "H48_Eg-wc7JQ",
        "colab": {
          "base_uri": "https://localhost:8080/"
        },
        "outputId": "c86546ca-7f3c-4486-fb53-50fb1543c6d0"
      },
      "source": [
        "from google.colab import drive\n",
        "drive.mount('/content/gdrive')"
      ],
      "execution_count": 1,
      "outputs": [
        {
          "output_type": "stream",
          "name": "stdout",
          "text": [
            "Mounted at /content/gdrive\n"
          ]
        }
      ]
    },
    {
      "cell_type": "code",
      "metadata": {
        "id": "57y8tZx3fn2a"
      },
      "source": [
        "from numpy import genfromtxt\n",
        "\n",
        "\n",
        "data_path = '/content/gdrive/MyDrive/Diabetes_Daignosis/dataset_37_diabetes.csv'\n",
        "# my_data = genfromtxt(data_path, delimiter=',')"
      ],
      "execution_count": 14,
      "outputs": []
    },
    {
      "cell_type": "code",
      "metadata": {
        "colab": {
          "base_uri": "https://localhost:8080/",
          "height": 419
        },
        "id": "3XigSkr5pdNw",
        "outputId": "3b386904-341b-4fb8-a219-0f7152d2e288"
      },
      "source": [
        "import pandas as pd\n",
        "df = pd.read_csv(data_path) \n",
        "df"
      ],
      "execution_count": 36,
      "outputs": [
        {
          "output_type": "execute_result",
          "data": {
            "text/html": [
              "<div>\n",
              "<style scoped>\n",
              "    .dataframe tbody tr th:only-of-type {\n",
              "        vertical-align: middle;\n",
              "    }\n",
              "\n",
              "    .dataframe tbody tr th {\n",
              "        vertical-align: top;\n",
              "    }\n",
              "\n",
              "    .dataframe thead th {\n",
              "        text-align: right;\n",
              "    }\n",
              "</style>\n",
              "<table border=\"1\" class=\"dataframe\">\n",
              "  <thead>\n",
              "    <tr style=\"text-align: right;\">\n",
              "      <th></th>\n",
              "      <th>preg</th>\n",
              "      <th>plas</th>\n",
              "      <th>pres</th>\n",
              "      <th>skin</th>\n",
              "      <th>insu</th>\n",
              "      <th>mass</th>\n",
              "      <th>pedi</th>\n",
              "      <th>age</th>\n",
              "      <th>classes</th>\n",
              "    </tr>\n",
              "  </thead>\n",
              "  <tbody>\n",
              "    <tr>\n",
              "      <th>0</th>\n",
              "      <td>6</td>\n",
              "      <td>148</td>\n",
              "      <td>72</td>\n",
              "      <td>35</td>\n",
              "      <td>0</td>\n",
              "      <td>33.6</td>\n",
              "      <td>0.627</td>\n",
              "      <td>50</td>\n",
              "      <td>tested_positive</td>\n",
              "    </tr>\n",
              "    <tr>\n",
              "      <th>1</th>\n",
              "      <td>1</td>\n",
              "      <td>85</td>\n",
              "      <td>66</td>\n",
              "      <td>29</td>\n",
              "      <td>0</td>\n",
              "      <td>26.6</td>\n",
              "      <td>0.351</td>\n",
              "      <td>31</td>\n",
              "      <td>tested_negative</td>\n",
              "    </tr>\n",
              "    <tr>\n",
              "      <th>2</th>\n",
              "      <td>8</td>\n",
              "      <td>183</td>\n",
              "      <td>64</td>\n",
              "      <td>0</td>\n",
              "      <td>0</td>\n",
              "      <td>23.3</td>\n",
              "      <td>0.672</td>\n",
              "      <td>32</td>\n",
              "      <td>tested_positive</td>\n",
              "    </tr>\n",
              "    <tr>\n",
              "      <th>3</th>\n",
              "      <td>1</td>\n",
              "      <td>89</td>\n",
              "      <td>66</td>\n",
              "      <td>23</td>\n",
              "      <td>94</td>\n",
              "      <td>28.1</td>\n",
              "      <td>0.167</td>\n",
              "      <td>21</td>\n",
              "      <td>tested_negative</td>\n",
              "    </tr>\n",
              "    <tr>\n",
              "      <th>4</th>\n",
              "      <td>0</td>\n",
              "      <td>137</td>\n",
              "      <td>40</td>\n",
              "      <td>35</td>\n",
              "      <td>168</td>\n",
              "      <td>43.1</td>\n",
              "      <td>2.288</td>\n",
              "      <td>33</td>\n",
              "      <td>tested_positive</td>\n",
              "    </tr>\n",
              "    <tr>\n",
              "      <th>...</th>\n",
              "      <td>...</td>\n",
              "      <td>...</td>\n",
              "      <td>...</td>\n",
              "      <td>...</td>\n",
              "      <td>...</td>\n",
              "      <td>...</td>\n",
              "      <td>...</td>\n",
              "      <td>...</td>\n",
              "      <td>...</td>\n",
              "    </tr>\n",
              "    <tr>\n",
              "      <th>763</th>\n",
              "      <td>10</td>\n",
              "      <td>101</td>\n",
              "      <td>76</td>\n",
              "      <td>48</td>\n",
              "      <td>180</td>\n",
              "      <td>32.9</td>\n",
              "      <td>0.171</td>\n",
              "      <td>63</td>\n",
              "      <td>tested_negative</td>\n",
              "    </tr>\n",
              "    <tr>\n",
              "      <th>764</th>\n",
              "      <td>2</td>\n",
              "      <td>122</td>\n",
              "      <td>70</td>\n",
              "      <td>27</td>\n",
              "      <td>0</td>\n",
              "      <td>36.8</td>\n",
              "      <td>0.340</td>\n",
              "      <td>27</td>\n",
              "      <td>tested_negative</td>\n",
              "    </tr>\n",
              "    <tr>\n",
              "      <th>765</th>\n",
              "      <td>5</td>\n",
              "      <td>121</td>\n",
              "      <td>72</td>\n",
              "      <td>23</td>\n",
              "      <td>112</td>\n",
              "      <td>26.2</td>\n",
              "      <td>0.245</td>\n",
              "      <td>30</td>\n",
              "      <td>tested_negative</td>\n",
              "    </tr>\n",
              "    <tr>\n",
              "      <th>766</th>\n",
              "      <td>1</td>\n",
              "      <td>126</td>\n",
              "      <td>60</td>\n",
              "      <td>0</td>\n",
              "      <td>0</td>\n",
              "      <td>30.1</td>\n",
              "      <td>0.349</td>\n",
              "      <td>47</td>\n",
              "      <td>tested_positive</td>\n",
              "    </tr>\n",
              "    <tr>\n",
              "      <th>767</th>\n",
              "      <td>1</td>\n",
              "      <td>93</td>\n",
              "      <td>70</td>\n",
              "      <td>31</td>\n",
              "      <td>0</td>\n",
              "      <td>30.4</td>\n",
              "      <td>0.315</td>\n",
              "      <td>23</td>\n",
              "      <td>tested_negative</td>\n",
              "    </tr>\n",
              "  </tbody>\n",
              "</table>\n",
              "<p>768 rows × 9 columns</p>\n",
              "</div>"
            ],
            "text/plain": [
              "     preg  plas  pres  skin  insu  mass   pedi  age          classes\n",
              "0       6   148    72    35     0  33.6  0.627   50  tested_positive\n",
              "1       1    85    66    29     0  26.6  0.351   31  tested_negative\n",
              "2       8   183    64     0     0  23.3  0.672   32  tested_positive\n",
              "3       1    89    66    23    94  28.1  0.167   21  tested_negative\n",
              "4       0   137    40    35   168  43.1  2.288   33  tested_positive\n",
              "..    ...   ...   ...   ...   ...   ...    ...  ...              ...\n",
              "763    10   101    76    48   180  32.9  0.171   63  tested_negative\n",
              "764     2   122    70    27     0  36.8  0.340   27  tested_negative\n",
              "765     5   121    72    23   112  26.2  0.245   30  tested_negative\n",
              "766     1   126    60     0     0  30.1  0.349   47  tested_positive\n",
              "767     1    93    70    31     0  30.4  0.315   23  tested_negative\n",
              "\n",
              "[768 rows x 9 columns]"
            ]
          },
          "metadata": {},
          "execution_count": 36
        }
      ]
    },
    {
      "cell_type": "code",
      "metadata": {
        "colab": {
          "base_uri": "https://localhost:8080/"
        },
        "id": "iENTEd5oxDl9",
        "outputId": "1807811d-35c8-4e82-d3c0-8d61c79d01de"
      },
      "source": [
        "df.classes"
      ],
      "execution_count": 37,
      "outputs": [
        {
          "output_type": "execute_result",
          "data": {
            "text/plain": [
              "0      tested_positive\n",
              "1      tested_negative\n",
              "2      tested_positive\n",
              "3      tested_negative\n",
              "4      tested_positive\n",
              "            ...       \n",
              "763    tested_negative\n",
              "764    tested_negative\n",
              "765    tested_negative\n",
              "766    tested_positive\n",
              "767    tested_negative\n",
              "Name: classes, Length: 768, dtype: object"
            ]
          },
          "metadata": {},
          "execution_count": 37
        }
      ]
    },
    {
      "cell_type": "code",
      "metadata": {
        "colab": {
          "base_uri": "https://localhost:8080/",
          "height": 419
        },
        "id": "MK1L5_5Jp6py",
        "outputId": "2928fa99-96b2-4aec-b57c-f87b91f2f494"
      },
      "source": [
        "# Chagnge class to correspnding integerc class\n",
        "df.classes = pd.factorize(df.classes)[0]\n",
        "df"
      ],
      "execution_count": 38,
      "outputs": [
        {
          "output_type": "execute_result",
          "data": {
            "text/html": [
              "<div>\n",
              "<style scoped>\n",
              "    .dataframe tbody tr th:only-of-type {\n",
              "        vertical-align: middle;\n",
              "    }\n",
              "\n",
              "    .dataframe tbody tr th {\n",
              "        vertical-align: top;\n",
              "    }\n",
              "\n",
              "    .dataframe thead th {\n",
              "        text-align: right;\n",
              "    }\n",
              "</style>\n",
              "<table border=\"1\" class=\"dataframe\">\n",
              "  <thead>\n",
              "    <tr style=\"text-align: right;\">\n",
              "      <th></th>\n",
              "      <th>preg</th>\n",
              "      <th>plas</th>\n",
              "      <th>pres</th>\n",
              "      <th>skin</th>\n",
              "      <th>insu</th>\n",
              "      <th>mass</th>\n",
              "      <th>pedi</th>\n",
              "      <th>age</th>\n",
              "      <th>classes</th>\n",
              "    </tr>\n",
              "  </thead>\n",
              "  <tbody>\n",
              "    <tr>\n",
              "      <th>0</th>\n",
              "      <td>6</td>\n",
              "      <td>148</td>\n",
              "      <td>72</td>\n",
              "      <td>35</td>\n",
              "      <td>0</td>\n",
              "      <td>33.6</td>\n",
              "      <td>0.627</td>\n",
              "      <td>50</td>\n",
              "      <td>0</td>\n",
              "    </tr>\n",
              "    <tr>\n",
              "      <th>1</th>\n",
              "      <td>1</td>\n",
              "      <td>85</td>\n",
              "      <td>66</td>\n",
              "      <td>29</td>\n",
              "      <td>0</td>\n",
              "      <td>26.6</td>\n",
              "      <td>0.351</td>\n",
              "      <td>31</td>\n",
              "      <td>1</td>\n",
              "    </tr>\n",
              "    <tr>\n",
              "      <th>2</th>\n",
              "      <td>8</td>\n",
              "      <td>183</td>\n",
              "      <td>64</td>\n",
              "      <td>0</td>\n",
              "      <td>0</td>\n",
              "      <td>23.3</td>\n",
              "      <td>0.672</td>\n",
              "      <td>32</td>\n",
              "      <td>0</td>\n",
              "    </tr>\n",
              "    <tr>\n",
              "      <th>3</th>\n",
              "      <td>1</td>\n",
              "      <td>89</td>\n",
              "      <td>66</td>\n",
              "      <td>23</td>\n",
              "      <td>94</td>\n",
              "      <td>28.1</td>\n",
              "      <td>0.167</td>\n",
              "      <td>21</td>\n",
              "      <td>1</td>\n",
              "    </tr>\n",
              "    <tr>\n",
              "      <th>4</th>\n",
              "      <td>0</td>\n",
              "      <td>137</td>\n",
              "      <td>40</td>\n",
              "      <td>35</td>\n",
              "      <td>168</td>\n",
              "      <td>43.1</td>\n",
              "      <td>2.288</td>\n",
              "      <td>33</td>\n",
              "      <td>0</td>\n",
              "    </tr>\n",
              "    <tr>\n",
              "      <th>...</th>\n",
              "      <td>...</td>\n",
              "      <td>...</td>\n",
              "      <td>...</td>\n",
              "      <td>...</td>\n",
              "      <td>...</td>\n",
              "      <td>...</td>\n",
              "      <td>...</td>\n",
              "      <td>...</td>\n",
              "      <td>...</td>\n",
              "    </tr>\n",
              "    <tr>\n",
              "      <th>763</th>\n",
              "      <td>10</td>\n",
              "      <td>101</td>\n",
              "      <td>76</td>\n",
              "      <td>48</td>\n",
              "      <td>180</td>\n",
              "      <td>32.9</td>\n",
              "      <td>0.171</td>\n",
              "      <td>63</td>\n",
              "      <td>1</td>\n",
              "    </tr>\n",
              "    <tr>\n",
              "      <th>764</th>\n",
              "      <td>2</td>\n",
              "      <td>122</td>\n",
              "      <td>70</td>\n",
              "      <td>27</td>\n",
              "      <td>0</td>\n",
              "      <td>36.8</td>\n",
              "      <td>0.340</td>\n",
              "      <td>27</td>\n",
              "      <td>1</td>\n",
              "    </tr>\n",
              "    <tr>\n",
              "      <th>765</th>\n",
              "      <td>5</td>\n",
              "      <td>121</td>\n",
              "      <td>72</td>\n",
              "      <td>23</td>\n",
              "      <td>112</td>\n",
              "      <td>26.2</td>\n",
              "      <td>0.245</td>\n",
              "      <td>30</td>\n",
              "      <td>1</td>\n",
              "    </tr>\n",
              "    <tr>\n",
              "      <th>766</th>\n",
              "      <td>1</td>\n",
              "      <td>126</td>\n",
              "      <td>60</td>\n",
              "      <td>0</td>\n",
              "      <td>0</td>\n",
              "      <td>30.1</td>\n",
              "      <td>0.349</td>\n",
              "      <td>47</td>\n",
              "      <td>0</td>\n",
              "    </tr>\n",
              "    <tr>\n",
              "      <th>767</th>\n",
              "      <td>1</td>\n",
              "      <td>93</td>\n",
              "      <td>70</td>\n",
              "      <td>31</td>\n",
              "      <td>0</td>\n",
              "      <td>30.4</td>\n",
              "      <td>0.315</td>\n",
              "      <td>23</td>\n",
              "      <td>1</td>\n",
              "    </tr>\n",
              "  </tbody>\n",
              "</table>\n",
              "<p>768 rows × 9 columns</p>\n",
              "</div>"
            ],
            "text/plain": [
              "     preg  plas  pres  skin  insu  mass   pedi  age  classes\n",
              "0       6   148    72    35     0  33.6  0.627   50        0\n",
              "1       1    85    66    29     0  26.6  0.351   31        1\n",
              "2       8   183    64     0     0  23.3  0.672   32        0\n",
              "3       1    89    66    23    94  28.1  0.167   21        1\n",
              "4       0   137    40    35   168  43.1  2.288   33        0\n",
              "..    ...   ...   ...   ...   ...   ...    ...  ...      ...\n",
              "763    10   101    76    48   180  32.9  0.171   63        1\n",
              "764     2   122    70    27     0  36.8  0.340   27        1\n",
              "765     5   121    72    23   112  26.2  0.245   30        1\n",
              "766     1   126    60     0     0  30.1  0.349   47        0\n",
              "767     1    93    70    31     0  30.4  0.315   23        1\n",
              "\n",
              "[768 rows x 9 columns]"
            ]
          },
          "metadata": {},
          "execution_count": 38
        }
      ]
    },
    {
      "cell_type": "code",
      "metadata": {
        "id": "8XiiESwMkfuS",
        "colab": {
          "base_uri": "https://localhost:8080/"
        },
        "outputId": "882de5d1-4f4f-476a-ae21-2b12dd77c896"
      },
      "source": [
        "data = df.values.tolist()\n",
        "for i in range(5):\n",
        "  print(data[i])\n",
        "type(data)\n",
        "len(data)"
      ],
      "execution_count": 39,
      "outputs": [
        {
          "output_type": "stream",
          "name": "stdout",
          "text": [
            "[6.0, 148.0, 72.0, 35.0, 0.0, 33.6, 0.627, 50.0, 0.0]\n",
            "[1.0, 85.0, 66.0, 29.0, 0.0, 26.6, 0.35100000000000003, 31.0, 1.0]\n",
            "[8.0, 183.0, 64.0, 0.0, 0.0, 23.3, 0.672, 32.0, 0.0]\n",
            "[1.0, 89.0, 66.0, 23.0, 94.0, 28.1, 0.16699999999999998, 21.0, 1.0]\n",
            "[0.0, 137.0, 40.0, 35.0, 168.0, 43.1, 2.2880000000000003, 33.0, 0.0]\n"
          ]
        },
        {
          "output_type": "execute_result",
          "data": {
            "text/plain": [
              "768"
            ]
          },
          "metadata": {},
          "execution_count": 39
        }
      ]
    },
    {
      "cell_type": "code",
      "metadata": {
        "id": "Qt1biDwfoQ9V"
      },
      "source": [
        "import random\n",
        "train_set=[]\n",
        "val_set=[]\n",
        "test_set=[]\n",
        "random.shuffle(data)\n",
        "\n"
      ],
      "execution_count": 40,
      "outputs": []
    },
    {
      "cell_type": "code",
      "metadata": {
        "id": "MGkvLcfQpdmN",
        "colab": {
          "base_uri": "https://localhost:8080/"
        },
        "outputId": "6edab3ff-ca8e-44ca-a6a4-0825b7e82140"
      },
      "source": [
        "#Split data set\n",
        "for s in data:\n",
        "  r=random.uniform(0,1)\n",
        "  if r>=0 and r<=0.7 and len(train_set)/len(data)<=0.7 :\n",
        "    train_set.append(s)\n",
        "  elif r>0.7 and r<=0.85 and len(val_set)/len(data)<=0.15 :\n",
        "    val_set.append(s)\n",
        "  elif r >0.85 and r<=1 and len(test_set)/len(data) <= 0.15:\n",
        "    test_set.append(s)\n",
        "\n",
        "print(len(train_set)/len(data))\n",
        "print(len(val_set)/len(data))\n",
        "print(len(test_set)/len(data))\n",
        "\n"
      ],
      "execution_count": 42,
      "outputs": [
        {
          "output_type": "stream",
          "name": "stdout",
          "text": [
            "0.7005208333333334\n",
            "0.15104166666666666\n",
            "0.15104166666666666\n"
          ]
        }
      ]
    },
    {
      "cell_type": "code",
      "metadata": {
        "id": "_hQHdb6JnuNN",
        "colab": {
          "base_uri": "https://localhost:8080/"
        },
        "outputId": "583d0d1c-d986-45a7-e8d7-af8100963c4f"
      },
      "source": [
        "# Validation Check\n",
        "import math\n",
        "import numpy as np\n",
        "k=15\n",
        "cnt=0\n",
        "for v in val_set:\n",
        "  l=[]\n",
        "  val_arr=np.array(v[:-1])\n",
        "  for t in train_set:\n",
        "    train_arr=np.array(t[:-1])\n",
        "    dist = np.linalg.norm(val_arr-train_arr)\n",
        "    l.append([dist,t])\n",
        "  l.sort()\n",
        "  l=l[:k]\n",
        "  \n",
        "  frequency=[]\n",
        "  for i in range(k):\n",
        "    frequency.append(l[i][1][-1])\n",
        "  cls=max(frequency,key=frequency.count)\n",
        "  if v[-1]==cls:\n",
        "    cnt+=1\n",
        "    \n",
        "\n",
        "accuracy=(cnt/len(val_set))*100\n",
        "print(accuracy)\n",
        "\n",
        "\n"
      ],
      "execution_count": 43,
      "outputs": [
        {
          "output_type": "stream",
          "name": "stdout",
          "text": [
            "84.48275862068965\n"
          ]
        }
      ]
    },
    {
      "cell_type": "code",
      "metadata": {
        "id": "Yxq7E3Hm7Rk1",
        "colab": {
          "base_uri": "https://localhost:8080/"
        },
        "outputId": "0dffbfa4-0601-4357-85dc-2fc13acb6191"
      },
      "source": [
        "#Test case Check\n",
        "k=15\n",
        "cnt=0\n",
        "for v in test_set:\n",
        "  l=[]\n",
        "  test_arr=np.array(v[:-1])\n",
        "  for t in train_set:\n",
        "    train_arr=np.array(t[:-1])\n",
        "    dist = np.linalg.norm(test_arr-train_arr)\n",
        "    l.append([dist,t])\n",
        "  l.sort()\n",
        "  l=l[:k]\n",
        "  \n",
        "  frequency=[]\n",
        "  for i in range(k):\n",
        "    frequency.append(l[i][1][-1])\n",
        "  cls=max(frequency,key=frequency.count)\n",
        "  if v[-1]==cls:\n",
        "    cnt+=1\n",
        "    \n",
        "\n",
        "accuracy=(cnt/len(test_set))*100\n",
        "print(accuracy)"
      ],
      "execution_count": 44,
      "outputs": [
        {
          "output_type": "stream",
          "name": "stdout",
          "text": [
            "79.3103448275862\n"
          ]
        }
      ]
    }
  ]
}